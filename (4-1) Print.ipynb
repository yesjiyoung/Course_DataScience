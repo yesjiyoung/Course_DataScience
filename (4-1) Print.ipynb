{
 "cells": [
  {
   "cell_type": "code",
   "execution_count": 1,
   "metadata": {},
   "outputs": [],
   "source": [
    "#more details of print()"
   ]
  },
  {
   "cell_type": "code",
   "execution_count": 2,
   "metadata": {},
   "outputs": [
    {
     "name": "stdout",
     "output_type": "stream",
     "text": [
      "Hello, python\n"
     ]
    }
   ],
   "source": [
    "print('Hello, python')"
   ]
  },
  {
   "cell_type": "code",
   "execution_count": 7,
   "metadata": {},
   "outputs": [
    {
     "name": "stdout",
     "output_type": "stream",
     "text": [
      "Hello,python!\n"
     ]
    }
   ],
   "source": [
    "print('Hello,'+ 'python!') #if you use '+' sign to combine them, no space between them"
   ]
  },
  {
   "cell_type": "code",
   "execution_count": 6,
   "metadata": {},
   "outputs": [
    {
     "name": "stdout",
     "output_type": "stream",
     "text": [
      "Hello, python!\n"
     ]
    }
   ],
   "source": [
    "print('Hello,', 'python!') #if you use ','to comibe them, there is a space between them"
   ]
  },
  {
   "cell_type": "code",
   "execution_count": 8,
   "metadata": {},
   "outputs": [],
   "source": [
    "#You can use both of comman and '+'sign to concentrate words..\n",
    "#concatenate =>link together"
   ]
  },
  {
   "cell_type": "code",
   "execution_count": 9,
   "metadata": {},
   "outputs": [],
   "source": [
    "# Q. My girl friend: Emma Waston"
   ]
  },
  {
   "cell_type": "code",
   "execution_count": 10,
   "metadata": {},
   "outputs": [
    {
     "name": "stdout",
     "output_type": "stream",
     "text": [
      "My girl friend: Emma Waston\n"
     ]
    }
   ],
   "source": [
    "#use both + and , to concatenate words\n",
    "print('My','girl','friend'+':','Emma','Waston')"
   ]
  },
  {
   "cell_type": "markdown",
   "metadata": {},
   "source": [
    "## What if we need to change the line?"
   ]
  },
  {
   "cell_type": "markdown",
   "metadata": {},
   "source": [
    "James is my friend.\n",
    "\n",
    "He is a American"
   ]
  },
  {
   "cell_type": "code",
   "execution_count": null,
   "metadata": {},
   "outputs": [],
   "source": [
    "#if you want to change a line, you need to use '\\n'\n",
    "#backslash n(\\n)"
   ]
  },
  {
   "cell_type": "code",
   "execution_count": 13,
   "metadata": {},
   "outputs": [
    {
     "name": "stdout",
     "output_type": "stream",
     "text": [
      "James is my friend.\n",
      " He is an American\n"
     ]
    }
   ],
   "source": [
    "print('James is my friend.\\n He is an American')"
   ]
  },
  {
   "cell_type": "code",
   "execution_count": 15,
   "metadata": {},
   "outputs": [
    {
     "name": "stdout",
     "output_type": "stream",
     "text": [
      "James is my friend.\n",
      "\n",
      "He is an American\n"
     ]
    }
   ],
   "source": [
    "#if a double space is needed, you can use \\n twice.\n",
    "print('James is my friend.\\n\\nHe is an American')"
   ]
  },
  {
   "cell_type": "code",
   "execution_count": 16,
   "metadata": {},
   "outputs": [],
   "source": [
    "#Basic method to use print function"
   ]
  },
  {
   "cell_type": "markdown",
   "metadata": {},
   "source": [
    "## Format method"
   ]
  },
  {
   "cell_type": "markdown",
   "metadata": {},
   "source": [
    "### %using method"
   ]
  },
  {
   "cell_type": "code",
   "execution_count": 19,
   "metadata": {},
   "outputs": [
    {
     "name": "stdout",
     "output_type": "stream",
     "text": [
      "Jiyoung\n"
     ]
    }
   ],
   "source": [
    "#single input\n",
    "data='Jiyoung'\n",
    "#s(string),d(integer),f(float)\n",
    "print('%s' %data) ##in the machin running, so useful "
   ]
  },
  {
   "cell_type": "code",
   "execution_count": 20,
   "metadata": {},
   "outputs": [
    {
     "name": "stdout",
     "output_type": "stream",
     "text": [
      "My score is 100.\n"
     ]
    }
   ],
   "source": [
    "score=100\n",
    "#s(string),d(integer),f(float)\n",
    "print(\"My score is %d\" %score + '.' )"
   ]
  },
  {
   "cell_type": "code",
   "execution_count": 25,
   "metadata": {},
   "outputs": [],
   "source": [
    "#Multiple inputs\n",
    "data1=3\n",
    "data2=3.141592\n",
    "\n",
    "#Radius:3, Circuumference: 3.141592"
   ]
  },
  {
   "cell_type": "code",
   "execution_count": 26,
   "metadata": {},
   "outputs": [
    {
     "name": "stdout",
     "output_type": "stream",
     "text": [
      "Radius: 3, Circumference: 3.141592\n"
     ]
    }
   ],
   "source": [
    "print(\"Radius: %d, Circumference: %f\" %(data1,data2) )"
   ]
  },
  {
   "cell_type": "markdown",
   "metadata": {},
   "source": [
    "### string.format()"
   ]
  },
  {
   "cell_type": "code",
   "execution_count": 27,
   "metadata": {},
   "outputs": [
    {
     "name": "stdout",
     "output_type": "stream",
     "text": [
      "Animal: cat\n"
     ]
    }
   ],
   "source": [
    "#Single input\n",
    "animal_0='cat'\n",
    "animal_1='dog'\n",
    "animal_2='fox'\n",
    "\n",
    "print('Animal: {0}'.format(animal_0))"
   ]
  },
  {
   "cell_type": "code",
   "execution_count": 29,
   "metadata": {},
   "outputs": [
    {
     "name": "stdout",
     "output_type": "stream",
     "text": [
      "Animal:cat,dog,fox\n"
     ]
    }
   ],
   "source": [
    "#Multiple input\n",
    "print('Animal:{0},{1},{2}'.format(animal_0, animal_1,animal_2))"
   ]
  },
  {
   "cell_type": "code",
   "execution_count": 30,
   "metadata": {},
   "outputs": [
    {
     "name": "stdout",
     "output_type": "stream",
     "text": [
      "Animal:cat,fox,dog\n"
     ]
    }
   ],
   "source": [
    "print('Animal:{0},{2},{1}'.format(animal_0, animal_1,animal_2))\n",
    "##string"
   ]
  },
  {
   "cell_type": "code",
   "execution_count": 31,
   "metadata": {},
   "outputs": [],
   "source": [
    "## string, integer, float\n",
    "name='BH'\n",
    "age=41\n",
    "RM=510\n",
    "HEIGHT=180.5\n",
    "my_profile='Name: {0}, Age: {1}, Height: {2}'"
   ]
  },
  {
   "cell_type": "code",
   "execution_count": 32,
   "metadata": {},
   "outputs": [
    {
     "name": "stdout",
     "output_type": "stream",
     "text": [
      "Name: BH, Age: 41, Height: 180.5\n"
     ]
    }
   ],
   "source": [
    "print(my_profile.format(name, age, HEIGHT))"
   ]
  },
  {
   "cell_type": "code",
   "execution_count": 33,
   "metadata": {},
   "outputs": [],
   "source": [
    "#print\n",
    "#Basic -> print(string)\n",
    "#format->define a format of the input\n",
    " #%\n",
    " #string.method()"
   ]
  },
  {
   "cell_type": "markdown",
   "metadata": {},
   "source": [
    "## input"
   ]
  },
  {
   "cell_type": "code",
   "execution_count": 37,
   "metadata": {},
   "outputs": [],
   "source": [
    "#1st way to define the value of data\n",
    "data = 'Jiyoung'"
   ]
  },
  {
   "cell_type": "code",
   "execution_count": 38,
   "metadata": {},
   "outputs": [
    {
     "name": "stdout",
     "output_type": "stream",
     "text": [
      "What is your name?Jiyoung\n"
     ]
    }
   ],
   "source": [
    "#2nd way to define the value of data\n",
    "data=input(\"What is your name?\")"
   ]
  },
  {
   "cell_type": "code",
   "execution_count": 36,
   "metadata": {},
   "outputs": [
    {
     "data": {
      "text/plain": [
       "'Jiyoung'"
      ]
     },
     "execution_count": 36,
     "metadata": {},
     "output_type": "execute_result"
    }
   ],
   "source": [
    "# value of the variable data\n",
    "data"
   ]
  },
  {
   "cell_type": "markdown",
   "metadata": {},
   "source": [
    "### Print statement using string.format method but use input function to define the value of variables"
   ]
  },
  {
   "cell_type": "code",
   "execution_count": 39,
   "metadata": {},
   "outputs": [
    {
     "name": "stdout",
     "output_type": "stream",
     "text": [
      "What is your name?jiyoung\n",
      "My name is jiyoung\n"
     ]
    }
   ],
   "source": [
    "#define the value of a variable\n",
    "myName=input('What is your name?')\n",
    "#print a string using string.format() method and the defined variable\n",
    "print('My name is {0}'.format(myName))"
   ]
  },
  {
   "cell_type": "code",
   "execution_count": 40,
   "metadata": {},
   "outputs": [
    {
     "name": "stdout",
     "output_type": "stream",
     "text": [
      "What is the length of a square?5\n",
      "The area is 25\n"
     ]
    }
   ],
   "source": [
    "#I want to calculate the area of a square.\n",
    "#define the value of a variable\n",
    "lenght=input('What is the length of a square?')\n",
    "Area=int(lenght)**2\n",
    "#print a string using string.format() method and the defined variable\n",
    "print('The area is {0}'.format(Area))"
   ]
  },
  {
   "cell_type": "code",
   "execution_count": 41,
   "metadata": {},
   "outputs": [
    {
     "data": {
      "text/plain": [
       "int"
      ]
     },
     "execution_count": 41,
     "metadata": {},
     "output_type": "execute_result"
    }
   ],
   "source": [
    "#integer->float\n",
    "type(0)"
   ]
  },
  {
   "cell_type": "code",
   "execution_count": 45,
   "metadata": {},
   "outputs": [
    {
     "data": {
      "text/plain": [
       "0.0"
      ]
     },
     "execution_count": 45,
     "metadata": {},
     "output_type": "execute_result"
    }
   ],
   "source": [
    "float(0)"
   ]
  },
  {
   "cell_type": "code",
   "execution_count": 43,
   "metadata": {},
   "outputs": [
    {
     "data": {
      "text/plain": [
       "str"
      ]
     },
     "execution_count": 43,
     "metadata": {},
     "output_type": "execute_result"
    }
   ],
   "source": [
    "#integer->string\n",
    "type(str(0))"
   ]
  },
  {
   "cell_type": "code",
   "execution_count": 44,
   "metadata": {},
   "outputs": [
    {
     "data": {
      "text/plain": [
       "0"
      ]
     },
     "execution_count": 44,
     "metadata": {},
     "output_type": "execute_result"
    }
   ],
   "source": [
    "#float->integer\n",
    "int(0.00)"
   ]
  }
 ],
 "metadata": {
  "kernelspec": {
   "display_name": "Python 3",
   "language": "python",
   "name": "python3"
  },
  "language_info": {
   "codemirror_mode": {
    "name": "ipython",
    "version": 3
   },
   "file_extension": ".py",
   "mimetype": "text/x-python",
   "name": "python",
   "nbconvert_exporter": "python",
   "pygments_lexer": "ipython3",
   "version": "3.7.4"
  }
 },
 "nbformat": 4,
 "nbformat_minor": 2
}
